{
 "cells": [
  {
   "cell_type": "markdown",
   "metadata": {},
   "source": [
    "# Funciones auxiliares empleadas para el desarrollo\n",
    "\n",
    "Se dejan con datos para poder hacer pruebas"
   ]
  },
  {
   "cell_type": "code",
   "execution_count": null,
   "metadata": {},
   "outputs": [],
   "source": [
    "# 1. agregar_producto\n",
    "inventario = [{\"nombre\": \"nintendo\", \"precio\": 300, \"cantidad\": 100},{\"nombre\": \"playstation\", \"precio\": 500, \"cantidad\": 50}]\n",
    "print(inventario)\n",
    "\n",
    "# bucle for que recorra todos los dict de la lista\n",
    "# si el nombre dado coincide con uno de la lista -> actualizo la cantidad (int) -> print con cantidad actualizada\n",
    "# Si no existe -> se añade dict a la lista\n",
    "\n",
    "def agregar_producto(nombre, precio, cantidad):\n",
    "    \n",
    "    # Bucle for para recorrer la lista de dict y comprobar que no esté el producto\n",
    "    for producto in inventario:\n",
    "        nombre = nombre.lower() # aseguramos que los nombres estén en minúscula\n",
    "        \n",
    "        if nombre == producto['nombre']: # ojo, si no pongo nombre como string para acceder a la clave de mi dict, estoy pidiendole que busque como clave lo que entre como variable nombre\n",
    "            print(\"Este producto está en el inventario\")\n",
    "            print(f\"La cantidad inicial del producto {nombre} era {producto[\"cantidad\"]}\")\n",
    "            producto[\"cantidad\"] += int(cantidad)\n",
    "            print(f\"La cantidad actualizada es {producto[\"cantidad\"]}\")\n",
    "            print(f\"Inventario actualizado {inventario}\")\n",
    "            return # Para salir de la función una vez se actualice el producto si lo encuentra\n",
    "    #Una vez comprobado que no está el producto, se añade\n",
    "    inventario.append({\"nombre\": nombre, \"precio\": precio, \"cantidad\": cantidad})\n",
    "    print(f\"El producto {nombre} se ha agregado correctamente\")\n",
    "    print(f\"Inventario actualizado {inventario}\")"
   ]
  },
  {
   "cell_type": "code",
   "execution_count": null,
   "metadata": {},
   "outputs": [],
   "source": [
    "agregar_producto(\"xbox\", 300, 50)"
   ]
  }
 ],
 "metadata": {
  "kernelspec": {
   "display_name": "base",
   "language": "python",
   "name": "python3"
  },
  "language_info": {
   "name": "python",
   "version": "3.12.4"
  }
 },
 "nbformat": 4,
 "nbformat_minor": 2
}

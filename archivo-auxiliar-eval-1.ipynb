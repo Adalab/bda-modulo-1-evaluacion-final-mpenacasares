{
 "cells": [
  {
   "cell_type": "markdown",
   "metadata": {},
   "source": [
    "# Funciones auxiliares empleadas para el desarrollo\n",
    "\n",
    "Se dejan con datos para poder hacer pruebas"
   ]
  },
  {
   "cell_type": "code",
   "execution_count": 7,
   "metadata": {},
   "outputs": [
    {
     "name": "stdout",
     "output_type": "stream",
     "text": [
      "[{'nombre': 'nintendo', 'precio': 300, 'cantidad': 100}, {'nombre': 'playstation', 'precio': 500, 'cantidad': 50}]\n"
     ]
    }
   ],
   "source": [
    "# 1. agregar_producto\n",
    "inventario = [{\"nombre\": \"nintendo\", \"precio\": 300, \"cantidad\": 100},{\"nombre\": \"playstation\", \"precio\": 500, \"cantidad\": 50}]\n",
    "print(inventario)\n",
    "\n",
    "# bucle for que recorra todos los dict de la lista\n",
    "# si el nombre dado coincide con uno de la lista -> actualizo la cantidad (int) -> print con cantidad actualizada\n",
    "# Si no existe -> se añade dict a la lista\n",
    "\n",
    "def agregar_producto(nombre, precio, cantidad):\n",
    "    \n",
    "    # Bucle for para recorrer la lista de dict y comprobar que no esté el producto\n",
    "    for producto in inventario:\n",
    "        nombre = nombre.lower() # aseguramos que los nombres estén en minúscula\n",
    "        \n",
    "        if nombre == producto['nombre']: # ojo, si no pongo nombre como string para acceder a la clave de mi dict, estoy pidiendole que busque como clave lo que entre como variable nombre\n",
    "            print(\"Este producto está en el inventario\")\n",
    "            print(f\"La cantidad inicial del producto {nombre} era {producto[\"cantidad\"]}\")\n",
    "            producto[\"cantidad\"] += int(cantidad)\n",
    "            print(f\"La cantidad actualizada es {producto[\"cantidad\"]}\")\n",
    "            print(f\"Inventario actualizado {inventario}\")\n",
    "            return # Para salir de la función una vez se actualice el producto si lo encuentra\n",
    "    #Una vez comprobado que no está el producto, se añade\n",
    "    inventario.append({\"nombre\": nombre, \"precio\": precio, \"cantidad\": cantidad})\n",
    "    print(f\"El producto {nombre} se ha agregado correctamente\")\n",
    "    print(f\"Inventario actualizado {inventario}\")"
   ]
  },
  {
   "cell_type": "code",
   "execution_count": 5,
   "metadata": {},
   "outputs": [
    {
     "name": "stdout",
     "output_type": "stream",
     "text": [
      "El producto xbox se ha agregado correctamente\n",
      "Inventario actualizado [{'nombre': 'nintendo', 'precio': 300, 'cantidad': 100}, {'nombre': 'playstation', 'precio': 500, 'cantidad': 50}, {'nombre': 'xbox', 'precio': 300, 'cantidad': 50}]\n"
     ]
    }
   ],
   "source": [
    "agregar_producto(\"xbox\", 300, 50)"
   ]
  },
  {
   "cell_type": "code",
   "execution_count": 14,
   "metadata": {},
   "outputs": [
    {
     "name": "stdout",
     "output_type": "stream",
     "text": [
      "[{'nombre': 'nintendo', 'precio': 300, 'cantidad': 100}, {'nombre': 'playstation', 'precio': 500, 'cantidad': 50}]\n"
     ]
    }
   ],
   "source": [
    "#3 \n",
    "inventario = [{\"nombre\": \"nintendo\", \"precio\": 300, \"cantidad\": 100},{\"nombre\": \"playstation\", \"precio\": 500, \"cantidad\": 50}]\n",
    "print(inventario)\n",
    "\n",
    "def buscar_producto(nombre):\n",
    "    \n",
    "    for producto in inventario:\n",
    "        nombre = nombre.lower()        \n",
    "        if nombre == producto['nombre']: \n",
    "            print(f\"Detalles del producto {nombre}:\\nnombre: {producto[\"nombre\"]}, precio: ${producto[\"precio\"]}, cantidad: {producto[\"cantidad\"]}\")\n",
    "            return # Salimos de la función si encuentra el producto\n",
    "    # En caso de no encontrar el producto en ninguna de las iteraciones, que imprima el siguiente mensaje:\n",
    "    print(\"El producto indicado no está en el inventario 🙁\")"
   ]
  },
  {
   "cell_type": "code",
   "execution_count": 15,
   "metadata": {},
   "outputs": [
    {
     "name": "stdout",
     "output_type": "stream",
     "text": [
      "Detalles del producto nintendo:\n",
      "nombre: nintendo, precio: $300, cantidad: 100\n"
     ]
    },
    {
     "data": {
      "text/plain": [
       "True"
      ]
     },
     "execution_count": 15,
     "metadata": {},
     "output_type": "execute_result"
    }
   ],
   "source": [
    "buscar_producto(\"nintendo\") "
   ]
  },
  {
   "cell_type": "code",
   "execution_count": 5,
   "metadata": {},
   "outputs": [
    {
     "name": "stdout",
     "output_type": "stream",
     "text": [
      "[{'nombre': 'nintendo', 'precio': 300, 'cantidad': 100}, {'nombre': 'playstation', 'precio': 500, 'cantidad': 50}]\n"
     ]
    }
   ],
   "source": [
    "#4\n",
    "inventario = [{\"nombre\": \"nintendo\", \"precio\": 300, \"cantidad\": 100},{\"nombre\": \"playstation\", \"precio\": 500, \"cantidad\": 50}]\n",
    "print(inventario)\n",
    "\n",
    "def actualizar_stock(nombre, cantidad):\n",
    "    #PDTE: Proteger que no metan un número negativo ni una letra\n",
    "    for producto in inventario:\n",
    "        nombre = nombre.lower()\n",
    "        cantidad = int(cantidad)        \n",
    "        if nombre == producto['nombre']: \n",
    "            # Asignación directa a la cantidad del producto con la cantidad especificada por el usuario\n",
    "            print(f\"La cantidad inicial de {producto[\"nombre\"]} era {producto[\"cantidad\"]}\")\n",
    "            producto[\"cantidad\"] = cantidad\n",
    "            print(f\"La cantidad actual es {producto[\"cantidad\"]}\")\n",
    "            return # Para salir de la función una vez se actualice el producto si lo encuentra\n",
    "    # En caso de no encontrar el producto en ninguna de las iteraciones, que imprima el siguiente mensaje:\n",
    "    print(\"El producto indicado no está en el inventario 🙁 Revisa por favor si lo has escrito correctamente.\")"
   ]
  },
  {
   "cell_type": "code",
   "execution_count": 9,
   "metadata": {},
   "outputs": [
    {
     "name": "stdout",
     "output_type": "stream",
     "text": [
      "La cantidad inicial de nintendo era 100\n",
      "La cantidad actual es 500\n"
     ]
    }
   ],
   "source": [
    "actualizar_stock(\"nintendo\",500.6)"
   ]
  },
  {
   "cell_type": "code",
   "execution_count": 4,
   "metadata": {},
   "outputs": [
    {
     "name": "stdout",
     "output_type": "stream",
     "text": [
      "[{'nombre': 'nintendo', 'precio': 300, 'cantidad': 100}, {'nombre': 'playstation', 'precio': 500, 'cantidad': 50}]\n"
     ]
    }
   ],
   "source": [
    "#5\n",
    "inventario = [{\"nombre\": \"nintendo\", \"precio\": 300, \"cantidad\": 100},{\"nombre\": \"playstation\", \"precio\": 500, \"cantidad\": 50}]\n",
    "print(inventario)\n",
    "\n",
    "def eliminar_producto(nombre):\n",
    "    for producto in inventario:\n",
    "        nombre = nombre.lower()      \n",
    "        if nombre == producto['nombre']: # Utilizamos el nombre para localizar el producto que queremos eliminar\n",
    "            print(f\"Detalles del producto a eliminar {producto}\")\n",
    "            # Remove necesita el elemento de la lista -> elemento es un diccionario que está en la variable producto\n",
    "            inventario.remove(producto) \n",
    "            print(f\"Inventario actualizado: {inventario}\")\n",
    "            return # Para salir de la función una vez se actualice el producto si lo encuentra\n",
    "    # En caso de no encontrar el producto en ninguna de las iteraciones, que imprima el siguiente mensaje:\n",
    "    print(\"El producto indicado no está en el inventario 🙁 Revisa por favor si lo has escrito correctamente.\")\n"
   ]
  },
  {
   "cell_type": "code",
   "execution_count": 11,
   "metadata": {},
   "outputs": [
    {
     "name": "stdout",
     "output_type": "stream",
     "text": [
      "Detalles del producto a eliminar {'nombre': 'nintendo', 'precio': 300, 'cantidad': 100}\n",
      "Inventario actualizado: [{'nombre': 'playstation', 'precio': 500, 'cantidad': 50}]\n"
     ]
    }
   ],
   "source": [
    "eliminar_producto(\"nintendo\")"
   ]
  },
  {
   "cell_type": "code",
   "execution_count": 12,
   "metadata": {},
   "outputs": [
    {
     "name": "stdout",
     "output_type": "stream",
     "text": [
      "[{'nombre': 'nintendo', 'precio': 100, 'cantidad': 2}, {'nombre': 'playstation', 'precio': 200, 'cantidad': 2}]\n"
     ]
    }
   ],
   "source": [
    "# 6\n",
    "inventario = [{\"nombre\": \"nintendo\", \"precio\": 100, \"cantidad\": 2},{\"nombre\": \"playstation\", \"precio\": 200, \"cantidad\": 2}]\n",
    "print(inventario)\n",
    "\n",
    "def calcular_valor_inventario():\n",
    "    valor_inventario = 0\n",
    "    for producto in inventario:\n",
    "        valor_producto = producto[\"precio\"] * producto[\"cantidad\"]\n",
    "        print(f\"El valor del producto es {valor_producto}$\")\n",
    "        valor_inventario += valor_producto\n",
    "    print(f\"El valor total del inventario es {valor_inventario}$\")\n"
   ]
  },
  {
   "cell_type": "code",
   "execution_count": 13,
   "metadata": {},
   "outputs": [
    {
     "name": "stdout",
     "output_type": "stream",
     "text": [
      "El valor del producto es 200$\n",
      "El valor del producto es 400$\n",
      "El valor total del inventario es 600$\n"
     ]
    }
   ],
   "source": [
    "calcular_valor_inventario()"
   ]
  },
  {
   "cell_type": "code",
   "execution_count": 30,
   "metadata": {},
   "outputs": [
    {
     "name": "stdout",
     "output_type": "stream",
     "text": [
      "[{'nombre': 'nintendo', 'precio': 300, 'cantidad': 100}, {'nombre': 'playstation', 'precio': 500, 'cantidad': 50}]\n"
     ]
    }
   ],
   "source": [
    "# 2. ver inventario\n",
    "inventario = [{\"nombre\": \"nintendo\", \"precio\": 300, \"cantidad\": 100},{\"nombre\": \"playstation\", \"precio\": 500, \"cantidad\": 50}]\n",
    "print(inventario)\n",
    "\n",
    "def ver_inventario():\n",
    "    for producto in inventario:\n",
    "        print(f\"nombre: {producto[\"nombre\"]}, precio: {producto[\"precio\"]}, cantidad: {producto[\"cantidad\"]}\")               \n"
   ]
  },
  {
   "cell_type": "code",
   "execution_count": 31,
   "metadata": {},
   "outputs": [
    {
     "name": "stdout",
     "output_type": "stream",
     "text": [
      "nombre: nintendo, precio: 300, cantidad: 100\n",
      "nombre: playstation, precio: 500, cantidad: 50\n"
     ]
    }
   ],
   "source": [
    "ver_inventario()"
   ]
  },
  {
   "cell_type": "code",
   "execution_count": 18,
   "metadata": {},
   "outputs": [],
   "source": [
    "#7\n",
    "\n",
    "inventario = [{'nombre': 'nintendo', 'precio': 100, 'cantidad': 100}, {'nombre': 'playstation', 'precio': 200, 'cantidad': 200}, {'nombre': 'xbox', 'precio': 200, 'cantidad': 200}]\n"
   ]
  },
  {
   "cell_type": "code",
   "execution_count": 42,
   "metadata": {},
   "outputs": [],
   "source": [
    "\n",
    "def realizar_compra():\n",
    "    carrito_compra = [] # Inicializamos con una lista vacía para ir añadiendo los productos que quiera comprar el usuario    \n",
    "    costo_total = 0 # Inicializamos el costo total\n",
    "    while True:\n",
    "        print(\"Inventario disponible:\") \n",
    "        ver_inventario()\n",
    "        nombre_producto_usr = (input(\"Por favor indique el nombre del producto que desea o escriba 'esc' para salir\")).lower()\n",
    "        print(nombre_producto_usr)\n",
    "        if nombre_producto_usr == \"esc\":\n",
    "            print(\"Hasta la próxima 👋\")\n",
    "            break \n",
    "        # Inicializamos una variable para verificar si el producto existe una vez finalizada la iteración\n",
    "        producto_encontrado = False\n",
    "        for producto in inventario:\n",
    "            if nombre_producto_usr == producto[\"nombre\"]:\n",
    "                producto_encontrado = True # Marcamos que encontramos el producto\n",
    "                try: # Protegemos por si el usuario ingresa un valor inválido\n",
    "                    buscar_producto(nombre_producto_usr) # Mostramos datos del producto seleccionado\n",
    "                    cantidad_producto_usr = int(input(f\"Indique la cantidad que desea.\"))\n",
    "                    print(cantidad_producto_usr)\n",
    "                    if cantidad_producto_usr <= 0:\n",
    "                        print(\"La cantidad indicada debe ser mayor que 0\")\n",
    "                    elif cantidad_producto_usr > producto[\"cantidad\"]:\n",
    "                        print(\"No tenemos tantas unidades del productos seleccionado 🙁\")\n",
    "                    else:\n",
    "                        cantidad_actualizada = producto[\"cantidad\"] - cantidad_producto_usr\n",
    "                        print(f\"Cantidad inicial {producto[\"cantidad\"]} , cantidad usuario {cantidad_producto_usr}, cantidad actual {cantidad_actualizada}\")\n",
    "                        if cantidad_actualizada == 0: #Si no queda stock, eliminamos el producto del inventario\n",
    "                            eliminar_producto(producto[\"nombre\"])\n",
    "                        else:\n",
    "                            actualizar_stock(producto[\"nombre\"], cantidad_actualizada)\n",
    "                        # Agregamos el producto con su precio y cantidad indicada por el usuario al carrito de compra\n",
    "                        carrito_compra.append({\"nombre\": producto[\"nombre\"], \"precio\": producto[\"precio\"], \"cantidad\": cantidad_producto_usr})\n",
    "                         # Actualizamos el costo total y mostramos la compra hasta ahora\n",
    "                        costo_total += producto[\"precio\"] * cantidad_producto_usr\n",
    "                        carrito_compra_str = \"\"\n",
    "                        for producto_usr in carrito_compra:\n",
    "                            carrito_compra_str += f\"nombre: {producto_usr['nombre']}, precio: {producto_usr['precio']}, cantidad: {producto_usr['cantidad']}\\n\"                     \n",
    "                        print(f\"El costo total de su compra es {costo_total}$ Aquí tiene el desglose del pedido: {carrito_compra_str}\")\n",
    "                except ValueError:\n",
    "                    print(\"El formato indicado no es válido\")\n",
    "                    break\n",
    "        # Si después de recorrer todo el inventario no encontramos el producto (producto sigue siendo False) mostramos el mensaje de error\n",
    "        if not producto_encontrado:        \n",
    "            print(\"El producto indicado no está en el inventario 🙁 Revisa por favor si lo has escrito correctamente.\")\n",
    "        "
   ]
  },
  {
   "cell_type": "code",
   "execution_count": 43,
   "metadata": {},
   "outputs": [
    {
     "name": "stdout",
     "output_type": "stream",
     "text": [
      "Inventario disponible:\n",
      "nombre: nintendo, precio: 300, cantidad: 98\n",
      "nintendo\n",
      "Detalles del producto nintendo:\n",
      "nombre: nintendo, precio: $300, cantidad: 98\n",
      "El formato indicado no es válido\n",
      "Inventario disponible:\n",
      "nombre: nintendo, precio: 300, cantidad: 98\n",
      "esc\n",
      "Hasta la próxima 👋\n"
     ]
    }
   ],
   "source": [
    "realizar_compra()"
   ]
  },
  {
   "cell_type": "markdown",
   "metadata": {},
   "source": [
    "# BONUS ✨"
   ]
  },
  {
   "cell_type": "code",
   "execution_count": 1,
   "metadata": {},
   "outputs": [],
   "source": [
    "inventario = [{'nombre': 'nintendo', 'precio': 100, 'cantidad': 100}, {'nombre': 'playstation', 'precio': 200, 'cantidad': 200}, {'nombre': 'xbox', 'precio': 200, 'cantidad': 200}]"
   ]
  },
  {
   "cell_type": "code",
   "execution_count": 20,
   "metadata": {},
   "outputs": [],
   "source": [
    "# 8\n",
    "# Solicitar input cliente con el total -> float 2 digitos -> proteger por si nos meten letras y las comas\n",
    "# Lo mismo para cuando ingrese lo que va a pagar\n",
    "# Mensaje con el cambio y mostrar error si no ha pagado lo suficiente\n",
    "def procesar_pago():\n",
    "    try:\n",
    "        # Protejo con try except que no introduzca una letra, paso el tipo de número a float y con replace evito errores si pone los decimales con ,\n",
    "        cantidad_total = float((input(\"Por favor, indique el precio a pagar por su compra\").replace(\",\",\".\")))\n",
    "        # Adaptamos los valores a 2 decimales\n",
    "        cantidad_total = round(cantidad_total, 2)\n",
    "        cantidad_pagada = float((input(\"Por favor, indique el dinero que va a ingresar para pagar la compra\").replace(\",\",\".\"))) #Repito el proceso\n",
    "        cantidad_pagada = round(cantidad_pagada, 2)\n",
    "        print(f\"Cantidad total: {cantidad_total}$ - Cantidad pagada: {cantidad_pagada}\")\n",
    "        if cantidad_total > 0 and cantidad_pagada > 0:\n",
    "            cambio =  round(cantidad_pagada - cantidad_total, 2)\n",
    "            if cambio >= 0:\n",
    "                print(f\"Muchas gracias por su compra 🛒. Su cambio es de {cambio}$\")\n",
    "            else:\n",
    "                print(f\"El dinero que ha ingresado es inferior al solicitado 😟 Por favor, revise de nuevo las cantidades.\")\n",
    "        else:\n",
    "             print(f\"Las cantidades indicadas deben ser mayor que 0. Por favor, revise de nuevo las cantidades.\")      \n",
    "    except ValueError:\n",
    "        print(\"El formato indicado no es válido\")"
   ]
  },
  {
   "cell_type": "code",
   "execution_count": 23,
   "metadata": {},
   "outputs": [
    {
     "name": "stdout",
     "output_type": "stream",
     "text": [
      "Cantidad total: 290.0$ - Cantidad pagada: 533.55\n",
      "Muchas gracias por su compra 🛒. Su cambio es de 243.55$\n"
     ]
    }
   ],
   "source": [
    "procesar_pago()"
   ]
  },
  {
   "cell_type": "code",
   "execution_count": 3,
   "metadata": {},
   "outputs": [],
   "source": [
    "clientes = {} # Diccionario con registro de clientes e historial de compras: {'Cliente1': {'email': 'cliente1@email.com', 'compras': []}      "
   ]
  },
  {
   "cell_type": "code",
   "execution_count": 4,
   "metadata": {},
   "outputs": [],
   "source": [
    "# 9\n",
    "\n",
    "import re # Importar librería expresiones regulares (regex)  \n",
    "\n",
    "def agregar_clientes(nombre, email):\n",
    "    # Expresión regular para validar el formato del email:\n",
    "        # Antes del @ se permiten letras Mayus y minus, numeros y caracteres especiales\n",
    "        # Después del @ igual que en el caso anterior pero solo se permiten puntos y guiones, no caracteres especiales\n",
    "        # La extension de dominio (.com, .es, ...) debe tener como mínimo 2 letras\n",
    "    patron_email = r\"^[a-zA-Z0-9._%+-]+@[a-zA-Z0-9.-]+\\.[a-zA-Z]{2,}$\"  \n",
    "    # Utilizamos re.match para validar patron_email\n",
    "    if re.match(patron_email, email):\n",
    "        # Si el patrón es válido, comprobamos que no exista ya ese email en la base de datos               \n",
    "        cliente_encontrado = False\n",
    "        # Para comparar con el email necesito un dict_values donde las keys del dict son email y compras -> clientes.values()\n",
    "        for cliente_registrado in clientes.values():\n",
    "            print(clientes.values())\n",
    "            if cliente_registrado[\"email\"] == email:\n",
    "                cliente_encontrado = True\n",
    "                print(f\"El email indicado {email} ya está registrado en la base de datos\")\n",
    "                break\n",
    "        # Agregar cliente si no está su email en la BBDD -> Puede ser el mismo usuario con otro email o alguien que se llame igual\n",
    "        if not cliente_encontrado:\n",
    "            clientes[nombre] = {\"email\": email, \"compras\": []}\n",
    "            print(f\"El cliente {nombre} se ha agregado correctamente.\")\n",
    "    else:\n",
    "        print(f\"El email {email} proporcionado no es válido. Inténtalo de nuevo.\")\n",
    "        "
   ]
  },
  {
   "cell_type": "code",
   "execution_count": 25,
   "metadata": {},
   "outputs": [
    {
     "name": "stdout",
     "output_type": "stream",
     "text": [
      "dict_values([{'email': 'macape93@email.com', 'compras': []}, {'email': 'raquelita54@email.com', 'compras': []}])\n",
      "El email indicado macape93@email.com ya está registrado en la base de datos\n",
      "dict_values([{'email': 'macape93@email.com', 'compras': []}, {'email': 'raquelita54@email.com', 'compras': []}])\n",
      "dict_values([{'email': 'macape93@email.com', 'compras': []}, {'email': 'raquelita54@email.com', 'compras': []}])\n",
      "El email indicado raquelita54@email.com ya está registrado en la base de datos\n",
      "{'Maca': {'email': 'macape93@email.com', 'compras': []}, 'raquel': {'email': 'raquelita54@email.com', 'compras': []}}\n"
     ]
    }
   ],
   "source": [
    "agregar_clientes(\"Maca\", \"macape93@email.com\")\n",
    "agregar_clientes(\"raquel\", \"raquelita54@email.com\")\n",
    "print(clientes)"
   ]
  },
  {
   "cell_type": "code",
   "execution_count": 26,
   "metadata": {},
   "outputs": [],
   "source": [
    "# 10\n",
    "def ver_clientes():\n",
    "    if not clientes:\n",
    "        print(\"No hay clientes registrados.\")\n",
    "    else:\n",
    "        for key, value in clientes.items(): \n",
    "        # El value del dict clientes es otro dict, por lo que puedo acceder a la clave email -> value[\"email\"]\n",
    "            print(f\"nombre: {key}, email: {value[\"email\"]}\")"
   ]
  },
  {
   "cell_type": "code",
   "execution_count": 27,
   "metadata": {},
   "outputs": [
    {
     "name": "stdout",
     "output_type": "stream",
     "text": [
      "nombre: Maca, email: macape93@email.com\n",
      "nombre: raquel, email: raquelita54@email.com\n"
     ]
    }
   ],
   "source": [
    "ver_clientes()"
   ]
  },
  {
   "cell_type": "code",
   "execution_count": 21,
   "metadata": {},
   "outputs": [],
   "source": [
    "ventas_totales = 0.0"
   ]
  },
  {
   "cell_type": "code",
   "execution_count": 30,
   "metadata": {},
   "outputs": [],
   "source": [
    "# 11\n",
    "\n",
    "# Diccionario con registro de clientes e historial de compras: {'Cliente1': {'email': 'cliente1@email.com', 'compras': []}  \n",
    "\n",
    "def registrar_compra(nombre_cliente, carrito_compra):\n",
    "    if nombre_cliente not in clientes:\n",
    "        print(f\"El cliente {nombre_cliente} no está en la base de datos 😥\")\n",
    "    else:   \n",
    "        total_venta = 0.0\n",
    "        ventas_totales = 0.0 # Esto quitarlo en la clase\n",
    "        for key, value in carrito_compra.items(): \n",
    "            precio = value[\"precio\"]\n",
    "            cantidad = value[\"cantidad\"]\n",
    "            total_venta += precio * cantidad\n",
    "        # Añado el total de la venta a mi atributo self.ventas_totales que está inicializado en 0.0\n",
    "        ventas_totales += round(total_venta,2)\n",
    "        # Añadimos a la lista compras del cliente el dict con el producto comprado, precio y cantidad\n",
    "        clientes[nombre_cliente][\"compras\"].append(carrito_compra)\n",
    "        print(clientes)        \n",
    "\n",
    "\n",
    "                "
   ]
  },
  {
   "cell_type": "code",
   "execution_count": 17,
   "metadata": {},
   "outputs": [
    {
     "name": "stdout",
     "output_type": "stream",
     "text": [
      "{'Maca': {'email': 'macape93@email.com', 'compras': []}, 'raquel': {'email': 'raquelita54@email.com', 'compras': []}}\n"
     ]
    }
   ],
   "source": [
    "print(clientes)"
   ]
  },
  {
   "cell_type": "code",
   "execution_count": 33,
   "metadata": {},
   "outputs": [
    {
     "name": "stdout",
     "output_type": "stream",
     "text": [
      "El cliente patata no está en la base de datos 😥\n"
     ]
    }
   ],
   "source": [
    "carrito_maca = {\"xbox\": {\"precio\":200, \"cantidad\":2}}\n",
    "registrar_compra(\"patata\",carrito_maca)"
   ]
  }
 ],
 "metadata": {
  "kernelspec": {
   "display_name": "base",
   "language": "python",
   "name": "python3"
  },
  "language_info": {
   "codemirror_mode": {
    "name": "ipython",
    "version": 3
   },
   "file_extension": ".py",
   "mimetype": "text/x-python",
   "name": "python",
   "nbconvert_exporter": "python",
   "pygments_lexer": "ipython3",
   "version": "3.12.4"
  }
 },
 "nbformat": 4,
 "nbformat_minor": 2
}

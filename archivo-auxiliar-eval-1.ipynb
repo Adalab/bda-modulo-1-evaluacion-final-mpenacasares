{
 "cells": [
  {
   "cell_type": "markdown",
   "metadata": {},
   "source": [
    "# Funciones auxiliares empleadas para el desarrollo\n",
    "\n",
    "Se dejan con datos para poder hacer pruebas"
   ]
  },
  {
   "cell_type": "code",
   "execution_count": 7,
   "metadata": {},
   "outputs": [
    {
     "name": "stdout",
     "output_type": "stream",
     "text": [
      "[{'nombre': 'nintendo', 'precio': 300, 'cantidad': 100}, {'nombre': 'playstation', 'precio': 500, 'cantidad': 50}]\n"
     ]
    }
   ],
   "source": [
    "# 1. agregar_producto\n",
    "inventario = [{\"nombre\": \"nintendo\", \"precio\": 300, \"cantidad\": 100},{\"nombre\": \"playstation\", \"precio\": 500, \"cantidad\": 50}]\n",
    "print(inventario)\n",
    "\n",
    "# bucle for que recorra todos los dict de la lista\n",
    "# si el nombre dado coincide con uno de la lista -> actualizo la cantidad (int) -> print con cantidad actualizada\n",
    "# Si no existe -> se añade dict a la lista\n",
    "\n",
    "def agregar_producto(nombre, precio, cantidad):\n",
    "    \n",
    "    # Bucle for para recorrer la lista de dict y comprobar que no esté el producto\n",
    "    for producto in inventario:\n",
    "        nombre = nombre.lower() # aseguramos que los nombres estén en minúscula\n",
    "        \n",
    "        if nombre == producto['nombre']: # ojo, si no pongo nombre como string para acceder a la clave de mi dict, estoy pidiendole que busque como clave lo que entre como variable nombre\n",
    "            print(\"Este producto está en el inventario\")\n",
    "            print(f\"La cantidad inicial del producto {nombre} era {producto[\"cantidad\"]}\")\n",
    "            producto[\"cantidad\"] += int(cantidad)\n",
    "            print(f\"La cantidad actualizada es {producto[\"cantidad\"]}\")\n",
    "            print(f\"Inventario actualizado {inventario}\")\n",
    "            return # Para salir de la función una vez se actualice el producto si lo encuentra\n",
    "    #Una vez comprobado que no está el producto, se añade\n",
    "    inventario.append({\"nombre\": nombre, \"precio\": precio, \"cantidad\": cantidad})\n",
    "    print(f\"El producto {nombre} se ha agregado correctamente\")\n",
    "    print(f\"Inventario actualizado {inventario}\")"
   ]
  },
  {
   "cell_type": "code",
   "execution_count": 5,
   "metadata": {},
   "outputs": [
    {
     "name": "stdout",
     "output_type": "stream",
     "text": [
      "El producto xbox se ha agregado correctamente\n",
      "Inventario actualizado [{'nombre': 'nintendo', 'precio': 300, 'cantidad': 100}, {'nombre': 'playstation', 'precio': 500, 'cantidad': 50}, {'nombre': 'xbox', 'precio': 300, 'cantidad': 50}]\n"
     ]
    }
   ],
   "source": [
    "agregar_producto(\"xbox\", 300, 50)"
   ]
  },
  {
   "cell_type": "code",
   "execution_count": 8,
   "metadata": {},
   "outputs": [
    {
     "name": "stdout",
     "output_type": "stream",
     "text": [
      "[{'nombre': 'nintendo', 'precio': 300, 'cantidad': 100}, {'nombre': 'playstation', 'precio': 500, 'cantidad': 50}]\n"
     ]
    }
   ],
   "source": [
    "# 2. ver inventario\n",
    "inventario = [{\"nombre\": \"nintendo\", \"precio\": 300, \"cantidad\": 100},{\"nombre\": \"playstation\", \"precio\": 500, \"cantidad\": 50}]\n",
    "print(inventario)\n",
    "\n",
    "def ver_inventario():\n",
    "    for producto in inventario:\n",
    "        print(f\"nombre: {producto[\"nombre\"]}, precio: {producto[\"precio\"]}, cantidad: {producto[\"cantidad\"]}\")"
   ]
  },
  {
   "cell_type": "code",
   "execution_count": 9,
   "metadata": {},
   "outputs": [
    {
     "name": "stdout",
     "output_type": "stream",
     "text": [
      "nombre: nintendo, precio: 300, cantidad: 100\n",
      "nombre: playstation, precio: 500, cantidad: 50\n"
     ]
    }
   ],
   "source": [
    "ver_inventario()"
   ]
  },
  {
   "cell_type": "code",
   "execution_count": 19,
   "metadata": {},
   "outputs": [
    {
     "name": "stdout",
     "output_type": "stream",
     "text": [
      "[{'nombre': 'nintendo', 'precio': 300, 'cantidad': 100}, {'nombre': 'playstation', 'precio': 500, 'cantidad': 50}]\n"
     ]
    }
   ],
   "source": [
    "#3\n",
    "inventario = [{\"nombre\": \"nintendo\", \"precio\": 300, \"cantidad\": 100},{\"nombre\": \"playstation\", \"precio\": 500, \"cantidad\": 50}]\n",
    "print(inventario)\n",
    "\n",
    "def buscar_producto(nombre):\n",
    "    \n",
    "    for producto in inventario:\n",
    "        nombre = nombre.lower()        \n",
    "        if nombre == producto['nombre']: \n",
    "            print(f\"Detalles del producto {nombre}:\\nnombre: {producto[\"nombre\"]}, precio: ${producto[\"precio\"]}, cantidad: {producto[\"cantidad\"]}\")\n",
    "            return # Salimos de la función si encuentra el producto\n",
    "    # En caso de no encontrar el producto en ninguna de las iteraciones, que imprima el siguiente mensaje:\n",
    "    print(\"El producto indicado no está en el inventario 🙁\")"
   ]
  },
  {
   "cell_type": "code",
   "execution_count": 24,
   "metadata": {},
   "outputs": [
    {
     "name": "stdout",
     "output_type": "stream",
     "text": [
      "El producto indicado no está en el inventario 🙁\n"
     ]
    }
   ],
   "source": [
    "buscar_producto(\"xbox\")"
   ]
  },
  {
   "cell_type": "code",
   "execution_count": 25,
   "metadata": {},
   "outputs": [
    {
     "name": "stdout",
     "output_type": "stream",
     "text": [
      "[{'nombre': 'nintendo', 'precio': 300, 'cantidad': 100}, {'nombre': 'playstation', 'precio': 500, 'cantidad': 50}]\n"
     ]
    }
   ],
   "source": [
    "#4\n",
    "inventario = [{\"nombre\": \"nintendo\", \"precio\": 300, \"cantidad\": 100},{\"nombre\": \"playstation\", \"precio\": 500, \"cantidad\": 50}]\n",
    "print(inventario)\n",
    "\n",
    "def actualizar_stock(nombre, cantidad):\n",
    "    #PDTE: Proteger que no metan un número negativo ni una letra\n",
    "    for producto in inventario:\n",
    "        nombre = nombre.lower()\n",
    "        cantidad = int(cantidad)        \n",
    "        if nombre == producto['nombre']: \n",
    "            # Asignación directa a la cantidad del producto con la cantidad especificada por el usuario\n",
    "            print(f\"La cantidad inicial de {producto[\"nombre\"]} era {producto[\"cantidad\"]}\")\n",
    "            producto[\"cantidad\"] = cantidad\n",
    "            print(f\"La cantidad actual es {producto[\"cantidad\"]}\")\n",
    "            return # Para salir de la función una vez se actualice el producto si lo encuentra\n",
    "    # En caso de no encontrar el producto en ninguna de las iteraciones, que imprima el siguiente mensaje:\n",
    "    print(\"El producto indicado no está en el inventario 🙁 Revisa por favor si lo has escrito correctamente.\")"
   ]
  },
  {
   "cell_type": "code",
   "execution_count": 30,
   "metadata": {},
   "outputs": [
    {
     "name": "stdout",
     "output_type": "stream",
     "text": [
      "La cantidad inicial de nintendo era 234\n",
      "La cantidad actual es 500\n"
     ]
    }
   ],
   "source": [
    "actualizar_stock(\"nintendo\",500.6)"
   ]
  }
 ],
 "metadata": {
  "kernelspec": {
   "display_name": "base",
   "language": "python",
   "name": "python3"
  },
  "language_info": {
   "codemirror_mode": {
    "name": "ipython",
    "version": 3
   },
   "file_extension": ".py",
   "mimetype": "text/x-python",
   "name": "python",
   "nbconvert_exporter": "python",
   "pygments_lexer": "ipython3",
   "version": "3.12.4"
  }
 },
 "nbformat": 4,
 "nbformat_minor": 2
}

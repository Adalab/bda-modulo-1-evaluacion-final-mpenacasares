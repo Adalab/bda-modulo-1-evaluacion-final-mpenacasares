{
 "cells": [
  {
   "cell_type": "code",
   "execution_count": 15,
   "metadata": {},
   "outputs": [],
   "source": [
    "import re # Importar librería expresiones regulares (regex) para ejercicio 9\n",
    "\n",
    "class TiendaOnline:\n",
    "\n",
    "    # Método constructor -> atributos que definirán los objetos instanciados\n",
    "    def __init__(self, nombre): \n",
    "        self.nombre = nombre\n",
    "        self.inventario = [] # Lista de diccionarios con los productos del inventario: [{'nombre': \"Camisa\", \"precio\": 20, 'cantidad': 40}]\n",
    "        self.clientes = {} # Diccionario con registro de clientes e historial de compras: {'Cliente1': {'email': 'cliente1@email.com', 'compras': []}\n",
    "        self.ventas_totales = round(float(0),2) # Registro ventas totales de la tienda, inicializado en 0\n",
    "        \n",
    "    # Métodos funcionales\n",
    "    def agregar_producto(self, nombre, precio, cantidad):\n",
    "        nombre = nombre.lower()\n",
    "            # Bucle for para recorrer la lista de dict y comprobar que no esté el producto\n",
    "        for producto in self.inventario:\n",
    "            if nombre == producto['nombre']: # ojo, si no pongo nombre como string para acceder a la clave de mi dict, estoy pidiendole que busque como clave lo que entre como variable nombre\n",
    "                print(\"Este producto está en el inventario\")\n",
    "                print(f\"La cantidad inicial del producto {nombre} era {producto[\"cantidad\"]}\")\n",
    "                producto[\"cantidad\"] += int(cantidad)\n",
    "                print(f\"La cantidad actualizada es {producto[\"cantidad\"]}\")\n",
    "                print(f\"Inventario actualizado {self.inventario}\")\n",
    "                return # Para salir de la función una vez se actualice el producto si lo encuentra\n",
    "        #Una vez comprobado que no está el producto, se añade\n",
    "        self.inventario.append({\"nombre\": nombre, \"precio\": precio, \"cantidad\": cantidad})\n",
    "        print(f\"El producto {nombre} se ha agregado correctamente\")\n",
    "        print(f\"Inventario actualizado {self.inventario}\")\n",
    "        \n",
    "    def ver_inventario(self):\n",
    "        for producto in self.inventario:\n",
    "            print(f\"nombre: {producto[\"nombre\"]}, precio: {producto[\"precio\"]}, cantidad: {producto[\"cantidad\"]}\")\n",
    "            \n",
    "    def buscar_producto(self, nombre):\n",
    "        for producto in self.inventario:\n",
    "            nombre = nombre.lower()        \n",
    "            if nombre == producto['nombre']: \n",
    "                print(f\"Detalles del producto {nombre}:\\nnombre: {producto[\"nombre\"]}, precio: ${producto[\"precio\"]}, cantidad: {producto[\"cantidad\"]}\")\n",
    "                return # Salimos de la función si encuentra el producto\n",
    "        # En caso de no encontrar el producto en ninguna de las iteraciones, que imprima el siguiente mensaje:\n",
    "        print(\"El producto indicado no está en el inventario 🙁 Revisa por favor si lo has escrito correctamente.\")\n",
    "        \n",
    "    def actualizar_stock(self, nombre, cantidad):\n",
    "        for producto in self.inventario:\n",
    "            nombre = nombre.lower()\n",
    "            cantidad = int(cantidad) # Cantidades solo admitidas como números enteros       \n",
    "            if nombre == producto['nombre']: \n",
    "                # Asignación directa a la cantidad del producto con la cantidad especificada por el usuario\n",
    "                print(f\"La cantidad inicial de {producto[\"nombre\"]} era {producto[\"cantidad\"]}\")\n",
    "                producto[\"cantidad\"] = cantidad\n",
    "                print(f\"La cantidad actual es {producto[\"cantidad\"]}\")\n",
    "                return # Para salir de la función una vez se actualice el producto si lo encuentra\n",
    "        # En caso de no encontrar el producto en ninguna de las iteraciones, que imprima el siguiente mensaje:\n",
    "        print(\"El producto indicado no está en el inventario 🙁 Revisa por favor si lo has escrito correctamente.\")\n",
    "        \n",
    "    def eliminar_producto(self, nombre):\n",
    "        for producto in self.inventario:\n",
    "            nombre = nombre.lower()      \n",
    "            if nombre == producto['nombre']: # Utilizamos el nombre para localizar el producto que queremos eliminar\n",
    "                print(f\"Detalles del producto a eliminar: {producto}\")\n",
    "                # Remove necesita el elemento de la lista -> elemento es un diccionario que está en la variable producto\n",
    "                self.inventario.remove(producto) \n",
    "                print(f\"Inventario actualizado: {self.inventario}\")\n",
    "                return # Para salir de la función una vez se actualice el producto si lo encuentra\n",
    "        # En caso de no encontrar el producto en ninguna de las iteraciones, que imprima el siguiente mensaje:\n",
    "        print(\"El producto indicado no está en el inventario 🙁 Revisa por favor si lo has escrito correctamente.\")\n",
    "        \n",
    "    def calcular_valor_inventario(self):\n",
    "        valor_inventario = 0\n",
    "        for producto in self.inventario:\n",
    "            valor_producto = producto[\"precio\"] * producto[\"cantidad\"]\n",
    "            print(f\"El valor del producto es {valor_producto}$\")\n",
    "            valor_inventario += valor_producto\n",
    "        print(f\"El valor total del inventario es {valor_inventario}$\")\n",
    "        \n",
    "    def realizar_compra(self):\n",
    "        carrito_compra = [] # Inicializamos con una lista vacía para ir añadiendo los productos que quiera comprar el usuario    \n",
    "        costo_total = 0 # Inicializamos el costo total\n",
    "        while True:\n",
    "            print(\"Inventario disponible:\") \n",
    "            self.ver_inventario()\n",
    "            nombre_producto_usr = (input(\"Por favor indique el nombre del producto que desea o escriba 'esc' para salir\")).lower()\n",
    "            if nombre_producto_usr == \"esc\":\n",
    "                print(\"Hasta la próxima 👋\")\n",
    "                break \n",
    "            # Inicializamos una variable para verificar si el producto existe una vez finalizada la iteración\n",
    "            producto_encontrado = False\n",
    "            for producto in self.inventario:\n",
    "                if nombre_producto_usr == producto[\"nombre\"]:\n",
    "                    producto_encontrado = True # Marcamos que encontramos el producto\n",
    "                    try: # Protegemos por si el usuario ingresa un valor inválido\n",
    "                        self.buscar_producto(nombre_producto_usr) # Mostramos datos del producto seleccionado\n",
    "                        cantidad_producto_usr = int(input(f\"Indique la cantidad que desea:\"))\n",
    "                        if cantidad_producto_usr <= 0:\n",
    "                            print(\"La cantidad indicada debe ser mayor que 0\")\n",
    "                        elif cantidad_producto_usr > producto[\"cantidad\"]:\n",
    "                            print(\"No tenemos tantas unidades del productos seleccionado 🙁\")\n",
    "                        else:\n",
    "                            cantidad_actualizada = producto[\"cantidad\"] - cantidad_producto_usr\n",
    "                            print(f\"Cantidad inicial {producto[\"cantidad\"]} , cantidad usuario {cantidad_producto_usr}, cantidad actual {cantidad_actualizada}\")\n",
    "                            if cantidad_actualizada == 0: #Si no queda stock, eliminamos el producto del inventario\n",
    "                                self.eliminar_producto(producto[\"nombre\"])\n",
    "                            else:\n",
    "                                self.actualizar_stock(producto[\"nombre\"], cantidad_actualizada)\n",
    "                            # Agregamos el producto con su precio y cantidad indicada por el usuario al carrito de compra\n",
    "                            carrito_compra.append({\"nombre\": producto[\"nombre\"], \"precio\": producto[\"precio\"], \"cantidad\": cantidad_producto_usr})\n",
    "                            # Actualizamos el costo total y mostramos la compra hasta ahora\n",
    "                            costo_total += producto[\"precio\"] * cantidad_producto_usr\n",
    "                            carrito_compra_str = \"\"\n",
    "                            for producto_usr in carrito_compra:\n",
    "                                carrito_compra_str += f\"nombre: {producto_usr['nombre']}, precio: {producto_usr['precio']}, cantidad: {producto_usr['cantidad']}\\n\"                     \n",
    "                            print(f\"El costo total de su compra es {costo_total}$ Aquí tiene el desglose del pedido: {carrito_compra_str}\")\n",
    "                    except ValueError:\n",
    "                        print(\"El formato indicado no es válido\")\n",
    "                        break\n",
    "            # Si después de recorrer todo el inventario no encontramos el producto (producto_encontrado sigue siendo False) mostramos el mensaje de error\n",
    "            if not producto_encontrado:        \n",
    "                print(\"El producto indicado no está en el inventario 🙁 Revisa por favor si lo has escrito correctamente.\")\n",
    "                \n",
    "    def procesar_pago(self):\n",
    "        try:\n",
    "        # Protejo con try except que no introduzca una letra, paso el tipo de número a float y con replace evito errores si pone los decimales con ,\n",
    "            cantidad_total = float((input(\"Por favor, indique el precio a pagar por su compra\").replace(\",\",\".\")))\n",
    "            # Adaptamos los valores a 2 decimales\n",
    "            cantidad_total = round(cantidad_total, 2)\n",
    "            cantidad_pagada = float((input(\"Por favor, indique el dinero que va a ingresar para pagar la compra\").replace(\",\",\".\"))) #Repito el proceso\n",
    "            cantidad_pagada = round(cantidad_pagada, 2)\n",
    "            print(f\"Cantidad total: {cantidad_total}$ - Cantidad pagada: {cantidad_pagada}\")\n",
    "            if cantidad_total > 0 and cantidad_pagada > 0:\n",
    "                cambio =  round(cantidad_pagada - cantidad_total, 2)\n",
    "                if cambio >= 0:\n",
    "                    print(f\"Muchas gracias por su compra 🛒. Su cambio es de {cambio}$\")\n",
    "                else:\n",
    "                    print(f\"El dinero que ha ingresado es inferior al solicitado 😟 Por favor, revise de nuevo las cantidades.\")\n",
    "            else:\n",
    "                print(f\"Las cantidades indicadas deben ser mayor que 0. Por favor, revise de nuevo las cantidades.\")      \n",
    "        except ValueError:\n",
    "            print(\"El formato indicado no es válido\")\n",
    "            \n",
    "    def agregar_cliente(self, nombre, email):\n",
    "        # Expresión regular para validar el formato del email:\n",
    "            # Antes del @ se permiten letras Mayus y minus, numeros y caracteres especiales\n",
    "            # Después del @ igual que en el caso anterior pero solo se permiten puntos y guiones, no caracteres especiales\n",
    "            # La extension de dominio (.com, .es, ...) debe tener como mínimo 2 letras\n",
    "        patron_email = r\"^[a-zA-Z0-9._%+-]+@[a-zA-Z0-9.-]+\\.[a-zA-Z]{2,}$\"  \n",
    "        # Utilizamos re.match para validar patron_email\n",
    "        if re.match(patron_email, email):\n",
    "            # Si el patrón es válido, comprobamos que no exista ya ese email en la base de datos               \n",
    "            cliente_encontrado = False\n",
    "            # Para comparar con el email proporcionado necesito un dict_values donde las keys del dict son email y compras -> clientes.values()\n",
    "            for cliente_registrado in self.clientes.values():\n",
    "                print(self.clientes.values())\n",
    "                if cliente_registrado[\"email\"] == email:\n",
    "                    cliente_encontrado = True\n",
    "                    print(f\"El email indicado {email} ya está registrado en la base de datos\")\n",
    "                    break\n",
    "            # Agregar cliente si no está su email en la BBDD -> Puede ser el mismo usuario con otro email o alguien que se llame igual\n",
    "            if not cliente_encontrado:\n",
    "                self.clientes[nombre] = {\"email\": email, \"compras\": []}\n",
    "                print(f\"El cliente {nombre} se ha agregado correctamente.\")\n",
    "                print(f\"Clientes actualizado: {self.clientes}\")\n",
    "        else:\n",
    "            print(f\"El email {email} proporcionado no es válido. Inténtalo de nuevo.\")"
   ]
  },
  {
   "cell_type": "code",
   "execution_count": 16,
   "metadata": {},
   "outputs": [],
   "source": [
    "# Objetos instanciados\n",
    "tienda_01 = TiendaOnline(\"Game\")"
   ]
  },
  {
   "cell_type": "code",
   "execution_count": 57,
   "metadata": {},
   "outputs": [
    {
     "name": "stdout",
     "output_type": "stream",
     "text": [
      "El producto nintendo se ha agregado correctamente\n",
      "Inventario actualizado [{'nombre': 'nintendo', 'precio': 100, 'cantidad': 100}]\n",
      "El producto playstation se ha agregado correctamente\n",
      "Inventario actualizado [{'nombre': 'nintendo', 'precio': 100, 'cantidad': 100}, {'nombre': 'playstation', 'precio': 300, 'cantidad': 200}]\n"
     ]
    }
   ],
   "source": [
    "# Pruebo los metodos sobre los objetos instanciados\n",
    "#1\n",
    "tienda_01.agregar_producto(\"nintendo\",100,100)\n",
    "tienda_01.agregar_producto(\"playstation\",300,200)"
   ]
  },
  {
   "cell_type": "code",
   "execution_count": 58,
   "metadata": {},
   "outputs": [
    {
     "name": "stdout",
     "output_type": "stream",
     "text": [
      "nombre: nintendo, precio: 100, cantidad: 100\n",
      "nombre: playstation, precio: 300, cantidad: 200\n"
     ]
    }
   ],
   "source": [
    "#2\n",
    "tienda_01.ver_inventario()"
   ]
  },
  {
   "cell_type": "code",
   "execution_count": 59,
   "metadata": {},
   "outputs": [
    {
     "name": "stdout",
     "output_type": "stream",
     "text": [
      "Detalles del producto nintendo:\n",
      "nombre: nintendo, precio: $100, cantidad: 100\n"
     ]
    }
   ],
   "source": [
    "#3\n",
    "tienda_01.buscar_producto(\"nintendo\")"
   ]
  },
  {
   "cell_type": "code",
   "execution_count": 60,
   "metadata": {},
   "outputs": [
    {
     "name": "stdout",
     "output_type": "stream",
     "text": [
      "La cantidad inicial de nintendo era 100\n",
      "La cantidad actual es 150\n"
     ]
    }
   ],
   "source": [
    "#4 \n",
    "tienda_01.actualizar_stock(\"nintendo\", 150)"
   ]
  },
  {
   "cell_type": "code",
   "execution_count": 18,
   "metadata": {},
   "outputs": [
    {
     "name": "stdout",
     "output_type": "stream",
     "text": [
      "Detalles del producto a eliminar: {'nombre': 'playstation', 'precio': 300, 'cantidad': 34}\n",
      "Inventario actualizado: [{'nombre': 'switch', 'precio': 100, 'cantidad': 2}]\n"
     ]
    }
   ],
   "source": [
    "#5\n",
    "tienda_01.eliminar_producto(\"playstation\")"
   ]
  },
  {
   "cell_type": "code",
   "execution_count": 49,
   "metadata": {},
   "outputs": [
    {
     "name": "stdout",
     "output_type": "stream",
     "text": [
      "El valor del producto es 15000$\n",
      "El valor del producto es 60000$\n",
      "El valor total del inventario es 75000$\n"
     ]
    }
   ],
   "source": [
    "#6\n",
    "tienda_01.calcular_valor_inventario()"
   ]
  },
  {
   "cell_type": "code",
   "execution_count": 63,
   "metadata": {},
   "outputs": [
    {
     "name": "stdout",
     "output_type": "stream",
     "text": [
      "Inventario disponible:\n",
      "nombre: playstation, precio: 300, cantidad: 198\n",
      "Hasta la próxima 👋\n"
     ]
    }
   ],
   "source": [
    "#7\n",
    "tienda_01.realizar_compra()"
   ]
  },
  {
   "cell_type": "code",
   "execution_count": 62,
   "metadata": {},
   "outputs": [
    {
     "name": "stdout",
     "output_type": "stream",
     "text": [
      "Objeto Game -> {'nombre': 'Game', 'inventario': [{'nombre': 'playstation', 'precio': 300, 'cantidad': 198}], 'clientes': {}, 'ventas_totales': 0.0}\n"
     ]
    }
   ],
   "source": [
    "# Compruebo el estado del objeto instanciado según le voy aplicando métodos\n",
    "print(f\"Objeto {tienda_01.nombre} -> {tienda_01.__dict__}\")"
   ]
  },
  {
   "cell_type": "markdown",
   "metadata": {},
   "source": [
    "# BONUS ✨"
   ]
  },
  {
   "cell_type": "code",
   "execution_count": 7,
   "metadata": {},
   "outputs": [
    {
     "name": "stdout",
     "output_type": "stream",
     "text": [
      "Cantidad total: 122.0$ - Cantidad pagada: 432.79\n",
      "Muchas gracias por su compra 🛒. Su cambio es de 310.79$\n"
     ]
    }
   ],
   "source": [
    "#8\n",
    "\n",
    "tienda_01.procesar_pago()"
   ]
  },
  {
   "cell_type": "code",
   "execution_count": 20,
   "metadata": {},
   "outputs": [
    {
     "name": "stdout",
     "output_type": "stream",
     "text": [
      "dict_values([{'email': 'macaPE93@email.com', 'compras': []}])\n",
      "El cliente Raquel se ha agregado correctamente.\n",
      "Clientes actualizado: {'Maca': {'email': 'macaPE93@email.com', 'compras': []}, 'Raquel': {'email': 'rach92+@email.com', 'compras': []}}\n"
     ]
    }
   ],
   "source": [
    "# 9\n",
    "tienda_01.agregar_cliente(\"Raquel\",\"rach92+@email.com\")"
   ]
  }
 ],
 "metadata": {
  "kernelspec": {
   "display_name": "base",
   "language": "python",
   "name": "python3"
  },
  "language_info": {
   "codemirror_mode": {
    "name": "ipython",
    "version": 3
   },
   "file_extension": ".py",
   "mimetype": "text/x-python",
   "name": "python",
   "nbconvert_exporter": "python",
   "pygments_lexer": "ipython3",
   "version": "3.12.4"
  }
 },
 "nbformat": 4,
 "nbformat_minor": 2
}

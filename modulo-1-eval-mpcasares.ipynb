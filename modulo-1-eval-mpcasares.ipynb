{
 "cells": [
  {
   "cell_type": "code",
   "execution_count": 162,
   "metadata": {},
   "outputs": [],
   "source": [
    "class TiendaOnline:\n",
    "\n",
    "    # Método constructor -> atributos que definirán los objetos instanciados\n",
    "    def __init__(self, nombre): \n",
    "        self.nombre = nombre\n",
    "        self.inventario = [] # Lista de diccionarios con los productos del inventario: [{'nombre': \"Camisa\", \"precio\": 20, 'cantidad': 40}]\n",
    "        self.clientes = {} # Diccionario con registro de clientes e historial de compras: {'Cliente1': {'email': 'cliente1@email.com', 'compras': []}\n",
    "        self.ventas_totales = round(float(0),2) # Registro ventas totales de la tienda, inicializado en 0\n",
    "        \n",
    "    # Métodos funcionales\n",
    "    def agregar_producto(self, nombre, precio, cantidad):\n",
    "        nombre = nombre.lower()\n",
    "            # Bucle for para recorrer la lista de dict y comprobar que no esté el producto\n",
    "        for producto in self.inventario:\n",
    "            if nombre == producto['nombre']: # ojo, si no pongo nombre como string para acceder a la clave de mi dict, estoy pidiendole que busque como clave lo que entre como variable nombre\n",
    "                print(\"Este producto está en el inventario\")\n",
    "                print(f\"La cantidad inicial del producto {nombre} era {producto[\"cantidad\"]}\")\n",
    "                producto[\"cantidad\"] += int(cantidad)\n",
    "                print(f\"La cantidad actualizada es {producto[\"cantidad\"]}\")\n",
    "                print(f\"Inventario actualizado {self.inventario}\")\n",
    "                return # Para salir de la función una vez se actualice el producto si lo encuentra\n",
    "        #Una vez comprobado que no está el producto, se añade\n",
    "        self.inventario.append({\"nombre\": nombre, \"precio\": precio, \"cantidad\": cantidad})\n",
    "        print(f\"El producto {nombre} se ha agregado correctamente\")\n",
    "        print(f\"Inventario actualizado {self.inventario}\")\n",
    "        \n",
    "    def ver_inventario(self):\n",
    "        for producto in self.inventario:\n",
    "            print(f\"nombre: {producto[\"nombre\"]}, precio: {producto[\"precio\"]}, cantidad: {producto[\"cantidad\"]}\")\n",
    "            \n",
    "    def buscar_producto(self, nombre):\n",
    "        for producto in self.inventario:\n",
    "            nombre = nombre.lower()        \n",
    "            if nombre == producto['nombre']: \n",
    "                print(f\"Detalles del producto {nombre}:\\nnombre: {producto[\"nombre\"]}, precio: ${producto[\"precio\"]}, cantidad: {producto[\"cantidad\"]}\")\n",
    "                return # Salimos de la función si encuentra el producto\n",
    "        # En caso de no encontrar el producto en ninguna de las iteraciones, que imprima el siguiente mensaje:\n",
    "        print(\"El producto indicado no está en el inventario 🙁 Revisa por favor si lo has escrito correctamente.\")\n",
    "        \n",
    "    def actualizar_stock(self, nombre, cantidad):\n",
    "        #PDTE: Proteger que no metan un número negativo ni una letra en la variable cantidad\n",
    "        for producto in self.inventario:\n",
    "            nombre = nombre.lower()\n",
    "            cantidad = int(cantidad) # Cantidades solo admitidas como números enteros       \n",
    "            if nombre == producto['nombre']: \n",
    "                # Asignación directa a la cantidad del producto con la cantidad especificada por el usuario\n",
    "                print(f\"La cantidad inicial de {producto[\"nombre\"]} era {producto[\"cantidad\"]}\")\n",
    "                producto[\"cantidad\"] = cantidad\n",
    "                print(f\"La cantidad actual es {producto[\"cantidad\"]}\")\n",
    "                return # Para salir de la función una vez se actualice el producto si lo encuentra\n",
    "        # En caso de no encontrar el producto en ninguna de las iteraciones, que imprima el siguiente mensaje:\n",
    "        print(\"El producto indicado no está en el inventario 🙁 Revisa por favor si lo has escrito correctamente.\")\n",
    "        \n",
    "    def eliminar_producto(self, nombre):\n",
    "        for producto in self.inventario:\n",
    "            nombre = nombre.lower()      \n",
    "            if nombre == producto['nombre']: # Utilizamos el nombre para localizar el producto que queremos eliminar\n",
    "                print(f\"Detalles del producto a eliminar: {producto}\")\n",
    "                # Remove necesita el elemento de la lista -> elemento es un diccionario que está en la variable producto\n",
    "                self.inventario.remove(producto) \n",
    "                print(f\"Inventario actualizado: {self.inventario}\")\n",
    "                return # Para salir de la función una vez se actualice el producto si lo encuentra\n",
    "        # En caso de no encontrar el producto en ninguna de las iteraciones, que imprima el siguiente mensaje:\n",
    "        print(\"El producto indicado no está en el inventario 🙁 Revisa por favor si lo has escrito correctamente.\")"
   ]
  },
  {
   "cell_type": "code",
   "execution_count": 163,
   "metadata": {},
   "outputs": [],
   "source": [
    "# Objetos instanciados\n",
    "tienda_01 = TiendaOnline(\"Game\")"
   ]
  },
  {
   "cell_type": "code",
   "execution_count": 164,
   "metadata": {},
   "outputs": [
    {
     "name": "stdout",
     "output_type": "stream",
     "text": [
      "El producto switch se ha agregado correctamente\n",
      "Inventario actualizado [{'nombre': 'switch', 'precio': 300, 'cantidad': 50}]\n",
      "El producto playstation se ha agregado correctamente\n",
      "Inventario actualizado [{'nombre': 'switch', 'precio': 300, 'cantidad': 50}, {'nombre': 'playstation', 'precio': 300, 'cantidad': 50}]\n"
     ]
    }
   ],
   "source": [
    "# Pruebo los metodos sobre los objetos instanciados\n",
    "#1\n",
    "tienda_01.agregar_producto(\"switch\",300,50)\n",
    "tienda_01.agregar_producto(\"playstation\",300,50)"
   ]
  },
  {
   "cell_type": "code",
   "execution_count": 165,
   "metadata": {},
   "outputs": [
    {
     "name": "stdout",
     "output_type": "stream",
     "text": [
      "nombre: switch, precio: 300, cantidad: 50\n",
      "nombre: playstation, precio: 300, cantidad: 50\n"
     ]
    }
   ],
   "source": [
    "#2\n",
    "tienda_01.ver_inventario()"
   ]
  },
  {
   "cell_type": "code",
   "execution_count": 141,
   "metadata": {},
   "outputs": [
    {
     "name": "stdout",
     "output_type": "stream",
     "text": [
      "Detalles del producto switch:\n",
      "nombre: switch, precio: $300, cantidad: 50\n"
     ]
    }
   ],
   "source": [
    "#3\n",
    "tienda_01.buscar_producto(\"switch\")"
   ]
  },
  {
   "cell_type": "code",
   "execution_count": 149,
   "metadata": {},
   "outputs": [
    {
     "name": "stdout",
     "output_type": "stream",
     "text": [
      "La cantidad inicial de playstation era 50\n",
      "La cantidad actual es 34\n"
     ]
    }
   ],
   "source": [
    "#4 \n",
    "tienda_01.actualizar_stock(\"playstation\", 34)"
   ]
  },
  {
   "cell_type": "code",
   "execution_count": 167,
   "metadata": {},
   "outputs": [
    {
     "name": "stdout",
     "output_type": "stream",
     "text": [
      "Detalles del producto a eliminar: {'nombre': 'playstation', 'precio': 300, 'cantidad': 50}\n",
      "Inventario actualizado: [{'nombre': 'switch', 'precio': 300, 'cantidad': 50}]\n"
     ]
    }
   ],
   "source": [
    "#5\n",
    "tienda_01.eliminar_producto(\"playstation\")"
   ]
  },
  {
   "cell_type": "code",
   "execution_count": 168,
   "metadata": {},
   "outputs": [
    {
     "name": "stdout",
     "output_type": "stream",
     "text": [
      "Objeto Game -> {'nombre': 'Game', 'inventario': [{'nombre': 'switch', 'precio': 300, 'cantidad': 50}], 'clientes': {}, 'ventas_totales': 0.0}\n"
     ]
    }
   ],
   "source": [
    "# Compruebo el estado del objeto instanciado según le voy aplicando métodos\n",
    "print(f\"Objeto {tienda_01.nombre} -> {tienda_01.__dict__}\")"
   ]
  }
 ],
 "metadata": {
  "kernelspec": {
   "display_name": "base",
   "language": "python",
   "name": "python3"
  },
  "language_info": {
   "codemirror_mode": {
    "name": "ipython",
    "version": 3
   },
   "file_extension": ".py",
   "mimetype": "text/x-python",
   "name": "python",
   "nbconvert_exporter": "python",
   "pygments_lexer": "ipython3",
   "version": "3.12.4"
  }
 },
 "nbformat": 4,
 "nbformat_minor": 2
}

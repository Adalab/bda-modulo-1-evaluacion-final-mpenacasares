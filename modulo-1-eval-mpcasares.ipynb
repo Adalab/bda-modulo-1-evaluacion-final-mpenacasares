{
 "cells": [
  {
   "cell_type": "code",
   "execution_count": 77,
   "metadata": {},
   "outputs": [],
   "source": [
    "class TiendaOnline:\n",
    "\n",
    "    # Método constructor -> atributos que definirán los objetos instanciados\n",
    "    def __init__(self, nombre): \n",
    "        self.nombre = nombre\n",
    "        self.inventario = [] # Lista de diccionarios con los productos del inventario: [{'nombre': \"Camisa\", \"precio\": 20, 'cantidad': 40}]\n",
    "        self.clientes = {} # Diccionario con registro de clientes e historial de compras: {'Cliente1': {'email': 'cliente1@email.com', 'compras': []}\n",
    "        self.ventas_totales = round(float(0),2) # Registro ventas totales de la tienda, inicializado en 0\n",
    "        \n",
    "    # Métodos funcionales\n",
    "    def agregar_producto(self, nombre, precio, cantidad):\n",
    "        nombre = nombre.lower()\n",
    "            # Bucle for para recorrer la lista de dict y comprobar que no esté el producto\n",
    "        for producto in self.inventario:\n",
    "            if nombre == producto['nombre']: # ojo, si no pongo nombre como string para acceder a la clave de mi dict, estoy pidiendole que busque como clave lo que entre como variable nombre\n",
    "                print(\"Este producto está en el inventario\")\n",
    "                print(f\"La cantidad inicial del producto {nombre} era {producto[\"cantidad\"]}\")\n",
    "                producto[\"cantidad\"] += int(cantidad)\n",
    "                print(f\"La cantidad actualizada es {producto[\"cantidad\"]}\")\n",
    "                print(f\"Inventario actualizado {self.inventario}\")\n",
    "                return # Para salir de la función una vez se actualice el producto si lo encuentra\n",
    "        #Una vez comprobado que no está el producto, se añade\n",
    "        self.inventario.append({\"nombre\": nombre, \"precio\": precio, \"cantidad\": cantidad})\n",
    "        print(f\"El producto {nombre} se ha agregado correctamente\")\n",
    "        print(f\"Inventario actualizado {self.inventario}\")"
   ]
  },
  {
   "cell_type": "code",
   "execution_count": 78,
   "metadata": {},
   "outputs": [],
   "source": [
    "# Objetos instanciados\n",
    "tienda_01 = TiendaOnline(\"Game\")"
   ]
  },
  {
   "cell_type": "code",
   "execution_count": 82,
   "metadata": {},
   "outputs": [
    {
     "name": "stdout",
     "output_type": "stream",
     "text": [
      "Este producto está en el inventario\n",
      "La cantidad inicial del producto playstation era 50\n",
      "La cantidad actualizada es 100\n",
      "Inventario actualizado [{'nombre': 'switch', 'precio': 300, 'cantidad': 150}, {'nombre': 'playstation', 'precio': 300, 'cantidad': 100}]\n"
     ]
    }
   ],
   "source": [
    "# Pruebo los metodos sobre los objetos instanciados\n",
    "tienda_01.agregar_producto(\"Playstation\",300,50)"
   ]
  },
  {
   "cell_type": "code",
   "execution_count": 83,
   "metadata": {},
   "outputs": [
    {
     "name": "stdout",
     "output_type": "stream",
     "text": [
      "Objeto Game -> {'nombre': 'Game', 'inventario': [{'nombre': 'switch', 'precio': 300, 'cantidad': 150}, {'nombre': 'playstation', 'precio': 300, 'cantidad': 100}], 'clientes': {}, 'ventas_totales': 0.0}\n"
     ]
    }
   ],
   "source": [
    "# Compruebo el estado del objeto instanciado según le voy aplicando métodos\n",
    "print(f\"Objeto {tienda_01.nombre} -> {tienda_01.__dict__}\")"
   ]
  }
 ],
 "metadata": {
  "kernelspec": {
   "display_name": "base",
   "language": "python",
   "name": "python3"
  },
  "language_info": {
   "codemirror_mode": {
    "name": "ipython",
    "version": 3
   },
   "file_extension": ".py",
   "mimetype": "text/x-python",
   "name": "python",
   "nbconvert_exporter": "python",
   "pygments_lexer": "ipython3",
   "version": "3.12.4"
  }
 },
 "nbformat": 4,
 "nbformat_minor": 2
}
